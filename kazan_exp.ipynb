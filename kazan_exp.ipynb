{
 "cells": [
  {
   "cell_type": "markdown",
   "metadata": {
    "id": "GuMfpimfCWzt"
   },
   "source": [
    "# Imports"
   ]
  },
  {
   "cell_type": "code",
   "execution_count": 1,
   "metadata": {
    "colab": {
     "base_uri": "https://localhost:8080/"
    },
    "id": "UY50y97OBcWk",
    "outputId": "42233d32-9dfb-48b5-c195-0904a6d4c556"
   },
   "outputs": [
    {
     "data": {
      "text/plain": [
       "'cuda'"
      ]
     },
     "execution_count": 1,
     "metadata": {},
     "output_type": "execute_result"
    }
   ],
   "source": [
    "from sklearn.model_selection import train_test_split\n",
    "from sklearn.metrics import f1_score\n",
    "\n",
    "import torch\n",
    "from torch.utils.data import DataLoader\n",
    "import torch.nn as nn\n",
    "from torch.optim import Adam\n",
    "from torch.utils.data import DataLoader\n",
    "\n",
    "\n",
    "from __future__ import annotations\n",
    "from IPython.display import clear_output \n",
    "from matplotlib import pyplot as plt\n",
    "import random\n",
    "from queue import Queue\n",
    "from tqdm import tqdm\n",
    "import pandas as pd\n",
    "import numpy as np\n",
    "import gensim\n",
    "import gc\n",
    "\n",
    "import fasttext.util\n",
    "from wikipedia2vec import Wikipedia2Vec\n",
    "fasttext.util.download_model('ru', if_exists='ignore')\n",
    "\n",
    "import nltk\n",
    "# nltk.download('stopwords')\n",
    "# nltk.download('punkt')\n",
    "from nltk.corpus import stopwords\n",
    "from nltk.tokenize import wordpunct_tokenize, word_tokenize\n",
    "from nltk.stem import SnowballStemmer\n",
    "\n",
    "import natasha\n",
    "import pymorphy2\n",
    "\n",
    "ROOT_ID = 1\n",
    "device = 'cuda' if torch.cuda.is_available() else 'cpu'\n",
    "device"
   ]
  },
  {
   "cell_type": "code",
   "execution_count": 8,
   "metadata": {
    "id": "l3LwKgwFGVBb"
   },
   "outputs": [],
   "source": [
    "SEED = 42\n",
    "\n",
    "random.seed(SEED)\n",
    "np.random.seed(SEED)\n",
    "torch.manual_seed(SEED)\n",
    "torch.cuda.manual_seed(SEED)\n",
    "torch.backends.cudnn.deterministic = True"
   ]
  },
  {
   "cell_type": "markdown",
   "metadata": {
    "id": "pAsGNapjjXeQ"
   },
   "source": [
    "# Data Analysis"
   ]
  },
  {
   "cell_type": "markdown",
   "metadata": {
    "id": "28CG9tV8gtaz"
   },
   "source": [
    "## Tables"
   ]
  },
  {
   "cell_type": "markdown",
   "metadata": {
    "id": "D_2cedC7lxRd"
   },
   "source": [
    "### Products"
   ]
  },
  {
   "cell_type": "code",
   "execution_count": 4,
   "metadata": {
    "id": "zTqIvZcmCV85"
   },
   "outputs": [],
   "source": [
    "products = pd.read_parquet('train.parquet')"
   ]
  },
  {
   "cell_type": "code",
   "execution_count": null,
   "metadata": {
    "colab": {
     "base_uri": "https://localhost:8080/",
     "height": 458
    },
    "id": "C4NnKs29GmwO",
    "outputId": "aba24a9f-5f3b-4954-d42c-1dbce22d5e07"
   },
   "outputs": [
    {
     "data": {
      "text/html": [
       "<div>\n",
       "<style scoped>\n",
       "    .dataframe tbody tr th:only-of-type {\n",
       "        vertical-align: middle;\n",
       "    }\n",
       "\n",
       "    .dataframe tbody tr th {\n",
       "        vertical-align: top;\n",
       "    }\n",
       "\n",
       "    .dataframe thead th {\n",
       "        text-align: right;\n",
       "    }\n",
       "</style>\n",
       "<table border=\"1\" class=\"dataframe\">\n",
       "  <thead>\n",
       "    <tr style=\"text-align: right;\">\n",
       "      <th></th>\n",
       "      <th>id</th>\n",
       "      <th>title</th>\n",
       "      <th>short_description</th>\n",
       "      <th>name_value_characteristics</th>\n",
       "      <th>rating</th>\n",
       "      <th>feedback_quantity</th>\n",
       "      <th>category_id</th>\n",
       "    </tr>\n",
       "  </thead>\n",
       "  <tbody>\n",
       "    <tr>\n",
       "      <th>154781</th>\n",
       "      <td>1261155</td>\n",
       "      <td>Комплект снуд в один оборот и шапка на флисе Ж...</td>\n",
       "      <td>Зимний комплект снуд и шапка на флисе</td>\n",
       "      <td>None</td>\n",
       "      <td>0.0</td>\n",
       "      <td>0</td>\n",
       "      <td>12071</td>\n",
       "    </tr>\n",
       "    <tr>\n",
       "      <th>19453</th>\n",
       "      <td>1136598</td>\n",
       "      <td>Подвеска женская сердце с черным камнем/женско...</td>\n",
       "      <td>None</td>\n",
       "      <td>None</td>\n",
       "      <td>5.0</td>\n",
       "      <td>9</td>\n",
       "      <td>12579</td>\n",
       "    </tr>\n",
       "    <tr>\n",
       "      <th>147554</th>\n",
       "      <td>625069</td>\n",
       "      <td>Ремень женский с круглой пряжкой из экокожи  \"...</td>\n",
       "      <td>None</td>\n",
       "      <td>None</td>\n",
       "      <td>0.0</td>\n",
       "      <td>0</td>\n",
       "      <td>13486</td>\n",
       "    </tr>\n",
       "  </tbody>\n",
       "</table>\n",
       "</div>"
      ],
      "text/plain": [
       "             id                                              title  \\\n",
       "154781  1261155  Комплект снуд в один оборот и шапка на флисе Ж...   \n",
       "19453   1136598  Подвеска женская сердце с черным камнем/женско...   \n",
       "147554   625069  Ремень женский с круглой пряжкой из экокожи  \"...   \n",
       "\n",
       "                            short_description name_value_characteristics  \\\n",
       "154781  Зимний комплект снуд и шапка на флисе                       None   \n",
       "19453                                    None                       None   \n",
       "147554                                   None                       None   \n",
       "\n",
       "        rating  feedback_quantity  category_id  \n",
       "154781     0.0                  0        12071  \n",
       "19453      5.0                  9        12579  \n",
       "147554     0.0                  0        13486  "
      ]
     },
     "execution_count": 13,
     "metadata": {},
     "output_type": "execute_result"
    }
   ],
   "source": [
    "products.sample(3)"
   ]
  },
  {
   "cell_type": "code",
   "execution_count": null,
   "metadata": {
    "colab": {
     "base_uri": "https://localhost:8080/"
    },
    "id": "m2UM97gsLdjk",
    "outputId": "cf1260e5-9a77-46a7-b96d-8b70a3affc37"
   },
   "outputs": [
    {
     "data": {
      "text/plain": [
       "(283452, 7)"
      ]
     },
     "execution_count": 26,
     "metadata": {},
     "output_type": "execute_result"
    }
   ],
   "source": [
    "products.shape"
   ]
  },
  {
   "cell_type": "code",
   "execution_count": null,
   "metadata": {
    "colab": {
     "base_uri": "https://localhost:8080/"
    },
    "id": "QVclOg0MJO8B",
    "outputId": "978370fc-c6b0-4a37-fec4-9faf0e74151a"
   },
   "outputs": [
    {
     "data": {
      "text/plain": [
       "(1231,)"
      ]
     },
     "execution_count": 15,
     "metadata": {},
     "output_type": "execute_result"
    }
   ],
   "source": [
    "products['category_id'].value_counts().shape"
   ]
  },
  {
   "cell_type": "code",
   "execution_count": null,
   "metadata": {
    "colab": {
     "base_uri": "https://localhost:8080/"
    },
    "id": "tjDTwpLRYvBJ",
    "outputId": "c87c204f-09d0-46dc-c2dd-f5e0859fc9e1"
   },
   "outputs": [
    {
     "data": {
      "text/plain": [
       "11937    14967\n",
       "13408     7153\n",
       "13061     6434\n",
       "13143     6145\n",
       "13407     3390\n",
       "         ...  \n",
       "2685         2\n",
       "13626        2\n",
       "14542        2\n",
       "13007        2\n",
       "13238        2\n",
       "Name: category_id, Length: 1231, dtype: int64"
      ]
     },
     "execution_count": 16,
     "metadata": {},
     "output_type": "execute_result"
    }
   ],
   "source": [
    "products['category_id'].value_counts()"
   ]
  },
  {
   "cell_type": "markdown",
   "metadata": {
    "id": "c0RnEBFTC34v"
   },
   "source": [
    "As we can see, we have products from 1231 different categories"
   ]
  },
  {
   "cell_type": "code",
   "execution_count": null,
   "metadata": {
    "colab": {
     "base_uri": "https://localhost:8080/"
    },
    "id": "xYiRsWlzPXql",
    "outputId": "b25e4bc3-f3be-41da-ee99-c40afbf08ee0"
   },
   "outputs": [
    {
     "data": {
      "text/plain": [
       "(1691, 7)"
      ]
     },
     "execution_count": 17,
     "metadata": {},
     "output_type": "execute_result"
    }
   ],
   "source": [
    "products[products['short_description'] == 'None'].shape"
   ]
  },
  {
   "cell_type": "code",
   "execution_count": null,
   "metadata": {
    "colab": {
     "base_uri": "https://localhost:8080/",
     "height": 285
    },
    "id": "EmoXE7EvZmsd",
    "outputId": "e5c9a1a9-bb21-404e-f744-0b4015368fba"
   },
   "outputs": [
    {
     "data": {
      "text/html": [
       "<div>\n",
       "<style scoped>\n",
       "    .dataframe tbody tr th:only-of-type {\n",
       "        vertical-align: middle;\n",
       "    }\n",
       "\n",
       "    .dataframe tbody tr th {\n",
       "        vertical-align: top;\n",
       "    }\n",
       "\n",
       "    .dataframe thead th {\n",
       "        text-align: right;\n",
       "    }\n",
       "</style>\n",
       "<table border=\"1\" class=\"dataframe\">\n",
       "  <thead>\n",
       "    <tr style=\"text-align: right;\">\n",
       "      <th></th>\n",
       "      <th>id</th>\n",
       "      <th>title</th>\n",
       "      <th>short_description</th>\n",
       "      <th>name_value_characteristics</th>\n",
       "      <th>rating</th>\n",
       "      <th>feedback_quantity</th>\n",
       "      <th>category_id</th>\n",
       "    </tr>\n",
       "  </thead>\n",
       "  <tbody>\n",
       "    <tr>\n",
       "      <th>203</th>\n",
       "      <td>532874</td>\n",
       "      <td>Худи Puma Logo Sweat Jacket</td>\n",
       "      <td>None</td>\n",
       "      <td>None</td>\n",
       "      <td>0.0</td>\n",
       "      <td>0</td>\n",
       "      <td>11774</td>\n",
       "    </tr>\n",
       "    <tr>\n",
       "      <th>205</th>\n",
       "      <td>946590</td>\n",
       "      <td>Открытка \"Голуби\"</td>\n",
       "      <td>None</td>\n",
       "      <td>None</td>\n",
       "      <td>0.0</td>\n",
       "      <td>0</td>\n",
       "      <td>11790</td>\n",
       "    </tr>\n",
       "    <tr>\n",
       "      <th>582</th>\n",
       "      <td>933287</td>\n",
       "      <td>Увлажняющий тональный крем с коллагеном (100мл)</td>\n",
       "      <td>None</td>\n",
       "      <td>Тон:13|21</td>\n",
       "      <td>5.0</td>\n",
       "      <td>1</td>\n",
       "      <td>12439</td>\n",
       "    </tr>\n",
       "  </tbody>\n",
       "</table>\n",
       "</div>"
      ],
      "text/plain": [
       "         id                                            title  \\\n",
       "203  532874                      Худи Puma Logo Sweat Jacket   \n",
       "205  946590                                Открытка \"Голуби\"   \n",
       "582  933287  Увлажняющий тональный крем с коллагеном (100мл)   \n",
       "\n",
       "    short_description name_value_characteristics  rating  feedback_quantity  \\\n",
       "203              None                       None     0.0                  0   \n",
       "205              None                       None     0.0                  0   \n",
       "582              None                  Тон:13|21     5.0                  1   \n",
       "\n",
       "     category_id  \n",
       "203        11774  \n",
       "205        11790  \n",
       "582        12439  "
      ]
     },
     "execution_count": 18,
     "metadata": {},
     "output_type": "execute_result"
    }
   ],
   "source": [
    "products[products['short_description'] == 'None'][:3]"
   ]
  },
  {
   "cell_type": "markdown",
   "metadata": {
    "id": "RFCH9dtJZaO7"
   },
   "source": [
    "Only a small number of products does not have a description."
   ]
  },
  {
   "cell_type": "code",
   "execution_count": null,
   "metadata": {
    "colab": {
     "base_uri": "https://localhost:8080/",
     "height": 81
    },
    "id": "6VtRm-ChCTdm",
    "outputId": "9679b51d-79e5-46a1-d980-fda85323db3b"
   },
   "outputs": [
    {
     "data": {
      "text/html": [
       "<div>\n",
       "<style scoped>\n",
       "    .dataframe tbody tr th:only-of-type {\n",
       "        vertical-align: middle;\n",
       "    }\n",
       "\n",
       "    .dataframe tbody tr th {\n",
       "        vertical-align: top;\n",
       "    }\n",
       "\n",
       "    .dataframe thead th {\n",
       "        text-align: right;\n",
       "    }\n",
       "</style>\n",
       "<table border=\"1\" class=\"dataframe\">\n",
       "  <thead>\n",
       "    <tr style=\"text-align: right;\">\n",
       "      <th></th>\n",
       "      <th>id</th>\n",
       "      <th>title</th>\n",
       "      <th>short_description</th>\n",
       "      <th>name_value_characteristics</th>\n",
       "      <th>rating</th>\n",
       "      <th>feedback_quantity</th>\n",
       "      <th>category_id</th>\n",
       "    </tr>\n",
       "  </thead>\n",
       "  <tbody>\n",
       "    <tr>\n",
       "      <th>277112</th>\n",
       "      <td>1428312</td>\n",
       "      <td></td>\n",
       "      <td>None</td>\n",
       "      <td>None</td>\n",
       "      <td>0.0</td>\n",
       "      <td>0</td>\n",
       "      <td>13143</td>\n",
       "    </tr>\n",
       "  </tbody>\n",
       "</table>\n",
       "</div>"
      ],
      "text/plain": [
       "             id title short_description name_value_characteristics  rating  \\\n",
       "277112  1428312                    None                       None     0.0   \n",
       "\n",
       "        feedback_quantity  category_id  \n",
       "277112                  0        13143  "
      ]
     },
     "execution_count": 6,
     "metadata": {},
     "output_type": "execute_result"
    }
   ],
   "source": [
    "products[products['title'] == '']"
   ]
  },
  {
   "cell_type": "markdown",
   "metadata": {
    "id": "oqsC3sg0CZV4"
   },
   "source": [
    "There is one product with missing information. It should be deleted."
   ]
  },
  {
   "cell_type": "code",
   "execution_count": 5,
   "metadata": {
    "id": "aWUYuGF_IRAR"
   },
   "outputs": [],
   "source": [
    "products.drop(277112, inplace=True)"
   ]
  },
  {
   "cell_type": "markdown",
   "metadata": {
    "id": "WgbaTjM4l1o1"
   },
   "source": [
    "### Categories"
   ]
  },
  {
   "cell_type": "code",
   "execution_count": 6,
   "metadata": {
    "id": "coL8H3KPl54y"
   },
   "outputs": [],
   "source": [
    "categories = pd.read_csv('categories_tree.csv')"
   ]
  },
  {
   "cell_type": "code",
   "execution_count": null,
   "metadata": {
    "colab": {
     "base_uri": "https://localhost:8080/"
    },
    "id": "P5enjJG7Jseh",
    "outputId": "e0f8a74b-95ff-4fc0-922c-5cbfd2ed72ee"
   },
   "outputs": [
    {
     "data": {
      "text/plain": [
       "(3370, 3)"
      ]
     },
     "execution_count": 20,
     "metadata": {},
     "output_type": "execute_result"
    }
   ],
   "source": [
    "categories.shape"
   ]
  },
  {
   "cell_type": "code",
   "execution_count": null,
   "metadata": {
    "colab": {
     "base_uri": "https://localhost:8080/"
    },
    "id": "XBoic35FmFpy",
    "outputId": "5118e385-50bd-45f0-a1d8-76be035ab36c"
   },
   "outputs": [
    {
     "data": {
      "text/html": [
       "<div>\n",
       "<style scoped>\n",
       "    .dataframe tbody tr th:only-of-type {\n",
       "        vertical-align: middle;\n",
       "    }\n",
       "\n",
       "    .dataframe tbody tr th {\n",
       "        vertical-align: top;\n",
       "    }\n",
       "\n",
       "    .dataframe thead th {\n",
       "        text-align: right;\n",
       "    }\n",
       "</style>\n",
       "<table border=\"1\" class=\"dataframe\">\n",
       "  <thead>\n",
       "    <tr style=\"text-align: right;\">\n",
       "      <th></th>\n",
       "      <th>id</th>\n",
       "      <th>title</th>\n",
       "      <th>parent_id</th>\n",
       "    </tr>\n",
       "  </thead>\n",
       "  <tbody>\n",
       "    <tr>\n",
       "      <th>0</th>\n",
       "      <td>1</td>\n",
       "      <td>Все категории</td>\n",
       "      <td>0</td>\n",
       "    </tr>\n",
       "    <tr>\n",
       "      <th>1</th>\n",
       "      <td>114</td>\n",
       "      <td>Урбеч</td>\n",
       "      <td>1913</td>\n",
       "    </tr>\n",
       "    <tr>\n",
       "      <th>2</th>\n",
       "      <td>115</td>\n",
       "      <td>Варенье и джемы</td>\n",
       "      <td>328</td>\n",
       "    </tr>\n",
       "    <tr>\n",
       "      <th>3</th>\n",
       "      <td>128</td>\n",
       "      <td>Сухие завтраки</td>\n",
       "      <td>2475</td>\n",
       "    </tr>\n",
       "    <tr>\n",
       "      <th>4</th>\n",
       "      <td>131</td>\n",
       "      <td>Масла</td>\n",
       "      <td>2475</td>\n",
       "    </tr>\n",
       "  </tbody>\n",
       "</table>\n",
       "</div>"
      ],
      "text/plain": [
       "    id            title  parent_id\n",
       "0    1    Все категории          0\n",
       "1  114            Урбеч       1913\n",
       "2  115  Варенье и джемы        328\n",
       "3  128   Сухие завтраки       2475\n",
       "4  131            Масла       2475"
      ]
     },
     "execution_count": 21,
     "metadata": {},
     "output_type": "execute_result"
    }
   ],
   "source": [
    "categories.head(5)"
   ]
  },
  {
   "cell_type": "code",
   "execution_count": null,
   "metadata": {
    "colab": {
     "base_uri": "https://localhost:8080/"
    },
    "id": "UYHguV5-njbZ",
    "outputId": "64c4d061-2f6d-4839-ebe9-8b156bf15e09"
   },
   "outputs": [
    {
     "data": {
      "text/html": [
       "<div>\n",
       "<style scoped>\n",
       "    .dataframe tbody tr th:only-of-type {\n",
       "        vertical-align: middle;\n",
       "    }\n",
       "\n",
       "    .dataframe tbody tr th {\n",
       "        vertical-align: top;\n",
       "    }\n",
       "\n",
       "    .dataframe thead th {\n",
       "        text-align: right;\n",
       "    }\n",
       "</style>\n",
       "<table border=\"1\" class=\"dataframe\">\n",
       "  <thead>\n",
       "    <tr style=\"text-align: right;\">\n",
       "      <th></th>\n",
       "      <th>id</th>\n",
       "      <th>title</th>\n",
       "      <th>parent_id</th>\n",
       "    </tr>\n",
       "  </thead>\n",
       "  <tbody>\n",
       "    <tr>\n",
       "      <th>0</th>\n",
       "      <td>1</td>\n",
       "      <td>Все категории</td>\n",
       "      <td>0</td>\n",
       "    </tr>\n",
       "    <tr>\n",
       "      <th>21</th>\n",
       "      <td>553</td>\n",
       "      <td>Травяные сборы</td>\n",
       "      <td>0</td>\n",
       "    </tr>\n",
       "    <tr>\n",
       "      <th>23</th>\n",
       "      <td>1754</td>\n",
       "      <td>Табак</td>\n",
       "      <td>0</td>\n",
       "    </tr>\n",
       "    <tr>\n",
       "      <th>28</th>\n",
       "      <td>2000</td>\n",
       "      <td>Игры и софт</td>\n",
       "      <td>0</td>\n",
       "    </tr>\n",
       "  </tbody>\n",
       "</table>\n",
       "</div>"
      ],
      "text/plain": [
       "      id           title  parent_id\n",
       "0      1   Все категории          0\n",
       "21   553  Травяные сборы          0\n",
       "23  1754           Табак          0\n",
       "28  2000     Игры и софт          0"
      ]
     },
     "execution_count": 22,
     "metadata": {},
     "output_type": "execute_result"
    }
   ],
   "source": [
    "categories[categories['parent_id'] == 0]"
   ]
  },
  {
   "cell_type": "code",
   "execution_count": null,
   "metadata": {
    "colab": {
     "base_uri": "https://localhost:8080/"
    },
    "id": "SP9dJH5pDTbj",
    "outputId": "9c9c4f21-37fe-4168-ad31-44c21af5a79c"
   },
   "outputs": [
    {
     "data": {
      "text/html": [
       "<div>\n",
       "<style scoped>\n",
       "    .dataframe tbody tr th:only-of-type {\n",
       "        vertical-align: middle;\n",
       "    }\n",
       "\n",
       "    .dataframe tbody tr th {\n",
       "        vertical-align: top;\n",
       "    }\n",
       "\n",
       "    .dataframe thead th {\n",
       "        text-align: right;\n",
       "    }\n",
       "</style>\n",
       "<table border=\"1\" class=\"dataframe\">\n",
       "  <thead>\n",
       "    <tr style=\"text-align: right;\">\n",
       "      <th></th>\n",
       "      <th>id</th>\n",
       "      <th>title</th>\n",
       "      <th>parent_id</th>\n",
       "    </tr>\n",
       "  </thead>\n",
       "  <tbody>\n",
       "  </tbody>\n",
       "</table>\n",
       "</div>"
      ],
      "text/plain": [
       "Empty DataFrame\n",
       "Columns: [id, title, parent_id]\n",
       "Index: []"
      ]
     },
     "execution_count": 23,
     "metadata": {},
     "output_type": "execute_result"
    }
   ],
   "source": [
    "categories[(categories['id'] == 0) |\n",
    "           (categories['parent_id'] == 553) |\n",
    "           (categories['parent_id'] == 1754) |\n",
    "           (categories['parent_id'] == 2000)]"
   ]
  },
  {
   "cell_type": "markdown",
   "metadata": {
    "id": "t9jzDfqxDQnc"
   },
   "source": [
    "The `root category` has `id = 1` but there are some categories that have `parent_id = 0`. Such categories does not have children and are not included in the main category tree."
   ]
  },
  {
   "cell_type": "code",
   "execution_count": null,
   "metadata": {
    "id": "jf0MMgMYTaXv"
   },
   "outputs": [],
   "source": [
    "ROOT_ID = 1"
   ]
  },
  {
   "cell_type": "code",
   "execution_count": null,
   "metadata": {
    "colab": {
     "base_uri": "https://localhost:8080/"
    },
    "id": "SMmcHPueB-to",
    "outputId": "88c43c5a-3b9d-46a4-addc-a2b5f57efbdb"
   },
   "outputs": [
    {
     "data": {
      "text/html": [
       "<div>\n",
       "<style scoped>\n",
       "    .dataframe tbody tr th:only-of-type {\n",
       "        vertical-align: middle;\n",
       "    }\n",
       "\n",
       "    .dataframe tbody tr th {\n",
       "        vertical-align: top;\n",
       "    }\n",
       "\n",
       "    .dataframe thead th {\n",
       "        text-align: right;\n",
       "    }\n",
       "</style>\n",
       "<table border=\"1\" class=\"dataframe\">\n",
       "  <thead>\n",
       "    <tr style=\"text-align: right;\">\n",
       "      <th></th>\n",
       "      <th>id</th>\n",
       "      <th>title</th>\n",
       "      <th>parent_id</th>\n",
       "    </tr>\n",
       "  </thead>\n",
       "  <tbody>\n",
       "    <tr>\n",
       "      <th>24</th>\n",
       "      <td>1821</td>\n",
       "      <td>Продукты питания</td>\n",
       "      <td>1</td>\n",
       "    </tr>\n",
       "    <tr>\n",
       "      <th>324</th>\n",
       "      <td>10002</td>\n",
       "      <td>Автотовары</td>\n",
       "      <td>1</td>\n",
       "    </tr>\n",
       "    <tr>\n",
       "      <th>325</th>\n",
       "      <td>10003</td>\n",
       "      <td>Аксессуары</td>\n",
       "      <td>1</td>\n",
       "    </tr>\n",
       "    <tr>\n",
       "      <th>326</th>\n",
       "      <td>10004</td>\n",
       "      <td>Бытовая техника</td>\n",
       "      <td>1</td>\n",
       "    </tr>\n",
       "    <tr>\n",
       "      <th>327</th>\n",
       "      <td>10005</td>\n",
       "      <td>Бытовая химия и личная гигиена</td>\n",
       "      <td>1</td>\n",
       "    </tr>\n",
       "    <tr>\n",
       "      <th>328</th>\n",
       "      <td>10006</td>\n",
       "      <td>Дача, сад и огород</td>\n",
       "      <td>1</td>\n",
       "    </tr>\n",
       "    <tr>\n",
       "      <th>329</th>\n",
       "      <td>10007</td>\n",
       "      <td>Детские товары</td>\n",
       "      <td>1</td>\n",
       "    </tr>\n",
       "    <tr>\n",
       "      <th>330</th>\n",
       "      <td>10008</td>\n",
       "      <td>Хобби и творчество</td>\n",
       "      <td>1</td>\n",
       "    </tr>\n",
       "    <tr>\n",
       "      <th>331</th>\n",
       "      <td>10009</td>\n",
       "      <td>Здоровье</td>\n",
       "      <td>1</td>\n",
       "    </tr>\n",
       "    <tr>\n",
       "      <th>332</th>\n",
       "      <td>10010</td>\n",
       "      <td>Канцтовары</td>\n",
       "      <td>1</td>\n",
       "    </tr>\n",
       "    <tr>\n",
       "      <th>333</th>\n",
       "      <td>10011</td>\n",
       "      <td>Книги</td>\n",
       "      <td>1</td>\n",
       "    </tr>\n",
       "    <tr>\n",
       "      <th>334</th>\n",
       "      <td>10012</td>\n",
       "      <td>Красота</td>\n",
       "      <td>1</td>\n",
       "    </tr>\n",
       "    <tr>\n",
       "      <th>335</th>\n",
       "      <td>10013</td>\n",
       "      <td>Обувь</td>\n",
       "      <td>1</td>\n",
       "    </tr>\n",
       "    <tr>\n",
       "      <th>336</th>\n",
       "      <td>10014</td>\n",
       "      <td>Одежда</td>\n",
       "      <td>1</td>\n",
       "    </tr>\n",
       "    <tr>\n",
       "      <th>337</th>\n",
       "      <td>10015</td>\n",
       "      <td>Спорт и отдых</td>\n",
       "      <td>1</td>\n",
       "    </tr>\n",
       "    <tr>\n",
       "      <th>338</th>\n",
       "      <td>10016</td>\n",
       "      <td>Строительство и ремонт</td>\n",
       "      <td>1</td>\n",
       "    </tr>\n",
       "    <tr>\n",
       "      <th>339</th>\n",
       "      <td>10018</td>\n",
       "      <td>Товары для дома</td>\n",
       "      <td>1</td>\n",
       "    </tr>\n",
       "    <tr>\n",
       "      <th>340</th>\n",
       "      <td>10019</td>\n",
       "      <td>Зоотовары</td>\n",
       "      <td>1</td>\n",
       "    </tr>\n",
       "    <tr>\n",
       "      <th>341</th>\n",
       "      <td>10020</td>\n",
       "      <td>Электроника</td>\n",
       "      <td>1</td>\n",
       "    </tr>\n",
       "  </tbody>\n",
       "</table>\n",
       "</div>"
      ],
      "text/plain": [
       "        id                           title  parent_id\n",
       "24    1821                Продукты питания          1\n",
       "324  10002                      Автотовары          1\n",
       "325  10003                      Аксессуары          1\n",
       "326  10004                 Бытовая техника          1\n",
       "327  10005  Бытовая химия и личная гигиена          1\n",
       "328  10006              Дача, сад и огород          1\n",
       "329  10007                  Детские товары          1\n",
       "330  10008              Хобби и творчество          1\n",
       "331  10009                        Здоровье          1\n",
       "332  10010                      Канцтовары          1\n",
       "333  10011                           Книги          1\n",
       "334  10012                         Красота          1\n",
       "335  10013                           Обувь          1\n",
       "336  10014                          Одежда          1\n",
       "337  10015                   Спорт и отдых          1\n",
       "338  10016          Строительство и ремонт          1\n",
       "339  10018                 Товары для дома          1\n",
       "340  10019                       Зоотовары          1\n",
       "341  10020                     Электроника          1"
      ]
     },
     "execution_count": 25,
     "metadata": {},
     "output_type": "execute_result"
    }
   ],
   "source": [
    "# Base categories\n",
    "categories[categories['parent_id'] == 1]"
   ]
  },
  {
   "cell_type": "markdown",
   "metadata": {
    "id": "M8Y5QcqVV_Tk"
   },
   "source": [
    "## Category Tree"
   ]
  },
  {
   "cell_type": "code",
   "execution_count": null,
   "metadata": {
    "id": "uvWLbO_bWDVk"
   },
   "outputs": [],
   "source": [
    "class Category():\n",
    "    '''Represents node for tree structure of categories.\n",
    "    '''\n",
    "    def __init__(self, id):\n",
    "        self.id = id\n",
    "        self.subcategories = []\n",
    "\n",
    "    def add_subcategory(self, sub: Category):\n",
    "        self.subcategories.append(sub)"
   ]
  },
  {
   "cell_type": "code",
   "execution_count": null,
   "metadata": {
    "id": "IdasnrLGdOfQ"
   },
   "outputs": [],
   "source": [
    "def create_category_tree(\n",
    "        categories: pandas.core.frame.DataFrame,\n",
    "        root_id: int\n",
    "        ) -> dict[int, Category]:\n",
    "    '''Starts from the root node and creates the category tree.\n",
    "    '''\n",
    "    cat_dict = {root_id: Category(root_id)}\n",
    "    queue = Queue()\n",
    "    queue.put(root_id)\n",
    "    \n",
    "    while not queue.empty():\n",
    "        id = queue.get_nowait()\n",
    "        \n",
    "        for child_id in list(categories[categories['parent_id'] == id]['id']):\n",
    "            child = Category(child_id)\n",
    "            cat_dict[child_id] = child\n",
    "            cat_dict[id].add_subcategory(child)\n",
    "            queue.put(child_id)\n",
    "\n",
    "    return cat_dict"
   ]
  },
  {
   "cell_type": "code",
   "execution_count": null,
   "metadata": {
    "id": "ZuBpew_WXVNF"
   },
   "outputs": [],
   "source": [
    "# Keeps references of all nodes in category tree\n",
    "# Key is id of category\n",
    "cat_dict = create_category_tree(categories, ROOT_ID)"
   ]
  },
  {
   "cell_type": "code",
   "execution_count": null,
   "metadata": {
    "colab": {
     "base_uri": "https://localhost:8080/"
    },
    "id": "REooW7rECD77",
    "outputId": "6b5e446e-0ea4-4057-b712-195b8a6193e3"
   },
   "outputs": [
    {
     "data": {
      "text/plain": [
       "3347"
      ]
     },
     "execution_count": 16,
     "metadata": {},
     "output_type": "execute_result"
    }
   ],
   "source": [
    "len(cat_dict)"
   ]
  },
  {
   "cell_type": "markdown",
   "metadata": {
    "id": "GlEzOapctlS4"
   },
   "source": [
    "### Missing Categories"
   ]
  },
  {
   "cell_type": "markdown",
   "metadata": {
    "id": "4WJYP_fWJg5A"
   },
   "source": [
    "After creation of category tree we get **3347** categories in it but we have **3370** categories in total. We should take care of unreferenced ones.<br>\n",
    "Some of them are those with `parent_id = 0` but there are others."
   ]
  },
  {
   "cell_type": "code",
   "execution_count": null,
   "metadata": {
    "colab": {
     "base_uri": "https://localhost:8080/"
    },
    "id": "hj6nOVRFJ3n9",
    "outputId": "b783182c-670a-4635-a0f7-f724a54f1dba"
   },
   "outputs": [
    {
     "data": {
      "text/html": [
       "<div>\n",
       "<style scoped>\n",
       "    .dataframe tbody tr th:only-of-type {\n",
       "        vertical-align: middle;\n",
       "    }\n",
       "\n",
       "    .dataframe tbody tr th {\n",
       "        vertical-align: top;\n",
       "    }\n",
       "\n",
       "    .dataframe thead th {\n",
       "        text-align: right;\n",
       "    }\n",
       "</style>\n",
       "<table border=\"1\" class=\"dataframe\">\n",
       "  <thead>\n",
       "    <tr style=\"text-align: right;\">\n",
       "      <th></th>\n",
       "      <th>id</th>\n",
       "      <th>title</th>\n",
       "      <th>parent_id</th>\n",
       "    </tr>\n",
       "  </thead>\n",
       "  <tbody>\n",
       "    <tr>\n",
       "      <th>21</th>\n",
       "      <td>553</td>\n",
       "      <td>Травяные сборы</td>\n",
       "      <td>0</td>\n",
       "    </tr>\n",
       "    <tr>\n",
       "      <th>23</th>\n",
       "      <td>1754</td>\n",
       "      <td>Табак</td>\n",
       "      <td>0</td>\n",
       "    </tr>\n",
       "    <tr>\n",
       "      <th>28</th>\n",
       "      <td>2000</td>\n",
       "      <td>Игры и софт</td>\n",
       "      <td>0</td>\n",
       "    </tr>\n",
       "    <tr>\n",
       "      <th>225</th>\n",
       "      <td>2780</td>\n",
       "      <td>Кальяны и аксессуары</td>\n",
       "      <td>2779</td>\n",
       "    </tr>\n",
       "    <tr>\n",
       "      <th>226</th>\n",
       "      <td>2781</td>\n",
       "      <td>Товары для самокруток</td>\n",
       "      <td>2779</td>\n",
       "    </tr>\n",
       "    <tr>\n",
       "      <th>227</th>\n",
       "      <td>2782</td>\n",
       "      <td>Пепельницы</td>\n",
       "      <td>2779</td>\n",
       "    </tr>\n",
       "    <tr>\n",
       "      <th>228</th>\n",
       "      <td>2783</td>\n",
       "      <td>Портсигары и хьюмидоры</td>\n",
       "      <td>2779</td>\n",
       "    </tr>\n",
       "    <tr>\n",
       "      <th>229</th>\n",
       "      <td>2784</td>\n",
       "      <td>Бонги и аксессуары</td>\n",
       "      <td>2779</td>\n",
       "    </tr>\n",
       "    <tr>\n",
       "      <th>230</th>\n",
       "      <td>2785</td>\n",
       "      <td>Подарочные наборы для курения</td>\n",
       "      <td>2779</td>\n",
       "    </tr>\n",
       "    <tr>\n",
       "      <th>231</th>\n",
       "      <td>2786</td>\n",
       "      <td>Смеси для кальяна</td>\n",
       "      <td>2780</td>\n",
       "    </tr>\n",
       "    <tr>\n",
       "      <th>232</th>\n",
       "      <td>2787</td>\n",
       "      <td>Уголь</td>\n",
       "      <td>2780</td>\n",
       "    </tr>\n",
       "    <tr>\n",
       "      <th>233</th>\n",
       "      <td>2788</td>\n",
       "      <td>Калауды</td>\n",
       "      <td>2780</td>\n",
       "    </tr>\n",
       "    <tr>\n",
       "      <th>234</th>\n",
       "      <td>2789</td>\n",
       "      <td>Колбы</td>\n",
       "      <td>2780</td>\n",
       "    </tr>\n",
       "    <tr>\n",
       "      <th>235</th>\n",
       "      <td>2790</td>\n",
       "      <td>Мундштуки</td>\n",
       "      <td>2780</td>\n",
       "    </tr>\n",
       "    <tr>\n",
       "      <th>236</th>\n",
       "      <td>2791</td>\n",
       "      <td>Чаши</td>\n",
       "      <td>2780</td>\n",
       "    </tr>\n",
       "    <tr>\n",
       "      <th>237</th>\n",
       "      <td>2792</td>\n",
       "      <td>Шахты</td>\n",
       "      <td>2780</td>\n",
       "    </tr>\n",
       "    <tr>\n",
       "      <th>238</th>\n",
       "      <td>2793</td>\n",
       "      <td>Шланги</td>\n",
       "      <td>2780</td>\n",
       "    </tr>\n",
       "    <tr>\n",
       "      <th>239</th>\n",
       "      <td>2794</td>\n",
       "      <td>Шила</td>\n",
       "      <td>2780</td>\n",
       "    </tr>\n",
       "    <tr>\n",
       "      <th>240</th>\n",
       "      <td>2795</td>\n",
       "      <td>Щипцы</td>\n",
       "      <td>2780</td>\n",
       "    </tr>\n",
       "    <tr>\n",
       "      <th>241</th>\n",
       "      <td>2796</td>\n",
       "      <td>Кальяны</td>\n",
       "      <td>2780</td>\n",
       "    </tr>\n",
       "    <tr>\n",
       "      <th>314</th>\n",
       "      <td>2890</td>\n",
       "      <td>Прочие аксессуары</td>\n",
       "      <td>2780</td>\n",
       "    </tr>\n",
       "    <tr>\n",
       "      <th>635</th>\n",
       "      <td>10797</td>\n",
       "      <td>Презервативы и лубриканты</td>\n",
       "      <td>10017</td>\n",
       "    </tr>\n",
       "    <tr>\n",
       "      <th>2468</th>\n",
       "      <td>13431</td>\n",
       "      <td>Презервативы</td>\n",
       "      <td>10797</td>\n",
       "    </tr>\n",
       "  </tbody>\n",
       "</table>\n",
       "</div>"
      ],
      "text/plain": [
       "         id                          title  parent_id\n",
       "21      553                 Травяные сборы          0\n",
       "23     1754                          Табак          0\n",
       "28     2000                    Игры и софт          0\n",
       "225    2780           Кальяны и аксессуары       2779\n",
       "226    2781          Товары для самокруток       2779\n",
       "227    2782                     Пепельницы       2779\n",
       "228    2783         Портсигары и хьюмидоры       2779\n",
       "229    2784             Бонги и аксессуары       2779\n",
       "230    2785  Подарочные наборы для курения       2779\n",
       "231    2786              Смеси для кальяна       2780\n",
       "232    2787                          Уголь       2780\n",
       "233    2788                        Калауды       2780\n",
       "234    2789                          Колбы       2780\n",
       "235    2790                      Мундштуки       2780\n",
       "236    2791                           Чаши       2780\n",
       "237    2792                          Шахты       2780\n",
       "238    2793                         Шланги       2780\n",
       "239    2794                           Шила       2780\n",
       "240    2795                          Щипцы       2780\n",
       "241    2796                        Кальяны       2780\n",
       "314    2890              Прочие аксессуары       2780\n",
       "635   10797      Презервативы и лубриканты      10017\n",
       "2468  13431                   Презервативы      10797"
      ]
     },
     "execution_count": 30,
     "metadata": {},
     "output_type": "execute_result"
    }
   ],
   "source": [
    "keys = set(cat_dict.keys())\n",
    "cats = set(categories['id'])\n",
    "difference = list(cats - keys)\n",
    "missing_cat = categories[categories['id'].isin(difference)]\n",
    "missing_cat"
   ]
  },
  {
   "cell_type": "code",
   "execution_count": null,
   "metadata": {
    "colab": {
     "base_uri": "https://localhost:8080/"
    },
    "id": "N3Jt8NMOYag8",
    "outputId": "50bfcda6-4bec-4a9a-9554-bbcdb4816ffb"
   },
   "outputs": [
    {
     "data": {
      "text/html": [
       "<div>\n",
       "<style scoped>\n",
       "    .dataframe tbody tr th:only-of-type {\n",
       "        vertical-align: middle;\n",
       "    }\n",
       "\n",
       "    .dataframe tbody tr th {\n",
       "        vertical-align: top;\n",
       "    }\n",
       "\n",
       "    .dataframe thead th {\n",
       "        text-align: right;\n",
       "    }\n",
       "</style>\n",
       "<table border=\"1\" class=\"dataframe\">\n",
       "  <thead>\n",
       "    <tr style=\"text-align: right;\">\n",
       "      <th></th>\n",
       "      <th>id</th>\n",
       "      <th>title</th>\n",
       "      <th>short_description</th>\n",
       "      <th>name_value_characteristics</th>\n",
       "      <th>rating</th>\n",
       "      <th>feedback_quantity</th>\n",
       "      <th>category_id</th>\n",
       "    </tr>\n",
       "  </thead>\n",
       "  <tbody>\n",
       "  </tbody>\n",
       "</table>\n",
       "</div>"
      ],
      "text/plain": [
       "Empty DataFrame\n",
       "Columns: [id, title, short_description, name_value_characteristics, rating, feedback_quantity, category_id]\n",
       "Index: []"
      ]
     },
     "execution_count": 31,
     "metadata": {},
     "output_type": "execute_result"
    }
   ],
   "source": [
    "products[products['category_id'].isin(list(missing_cat['id']))]"
   ]
  },
  {
   "cell_type": "markdown",
   "metadata": {
    "id": "WYavFFslrhg6"
   },
   "source": [
    "As we can see, there are no products from the missing categories in the table. The constructed categories tree is sufficient."
   ]
  },
  {
   "cell_type": "markdown",
   "metadata": {
    "id": "owR_U6jRs4vL"
   },
   "source": [
    "### Leaf or not Leaf\n",
    "Now I want to check if all the products belong to the leaf categories"
   ]
  },
  {
   "cell_type": "code",
   "execution_count": null,
   "metadata": {
    "id": "ZNFMlBwNtqpp"
   },
   "outputs": [],
   "source": [
    "def find_leaf_and_branch_categories(root_node: Category):\n",
    "    leafs = set()\n",
    "    branches = set()\n",
    "    queue = Queue()\n",
    "    queue.put(root_node)\n",
    "    \n",
    "    while not queue.empty():\n",
    "        node = queue.get_nowait()\n",
    "        if len(node.subcategories) == 0:\n",
    "            leafs.add(node.id)\n",
    "        else:\n",
    "            branches.add(node.id)\n",
    "            for child in node.subcategories:\n",
    "                queue.put(child)\n",
    "    \n",
    "    return  leafs, branches"
   ]
  },
  {
   "cell_type": "code",
   "execution_count": null,
   "metadata": {
    "colab": {
     "base_uri": "https://localhost:8080/"
    },
    "id": "1oZrn0VJwyMV",
    "outputId": "28c57845-b409-46fa-f6ae-3d876fad7974"
   },
   "outputs": [
    {
     "data": {
      "text/plain": [
       "2825"
      ]
     },
     "execution_count": 48,
     "metadata": {},
     "output_type": "execute_result"
    }
   ],
   "source": [
    "leafs, branches = find_leaf_and_branch_categories(cat_dict[1])\n",
    "np.save('leafs', list(leafs))\n",
    "np.save('branches', list(branches))\n",
    "len(leafs)"
   ]
  },
  {
   "cell_type": "code",
   "execution_count": null,
   "metadata": {
    "colab": {
     "base_uri": "https://localhost:8080/"
    },
    "id": "jnjTZv6TG3fV",
    "outputId": "4e29570a-e507-4b4d-ce12-f822523e0cba"
   },
   "outputs": [
    {
     "data": {
      "text/plain": [
       "1231"
      ]
     },
     "execution_count": 20,
     "metadata": {},
     "output_type": "execute_result"
    }
   ],
   "source": [
    "len(set(products['category_id']))"
   ]
  },
  {
   "cell_type": "code",
   "execution_count": null,
   "metadata": {
    "colab": {
     "base_uri": "https://localhost:8080/"
    },
    "id": "ZGLVORcGfbEl",
    "outputId": "63ae0650-3c87-48d8-f342-28edb2453680"
   },
   "outputs": [
    {
     "data": {
      "text/plain": [
       "1231"
      ]
     },
     "execution_count": 21,
     "metadata": {},
     "output_type": "execute_result"
    }
   ],
   "source": [
    "len(leafs & set(products['category_id']))"
   ]
  },
  {
   "cell_type": "markdown",
   "metadata": {
    "id": "IMvBZqWNXVka"
   },
   "source": [
    "As we can see, the categories of all products are leaf categories.<br>\n",
    "We can also make another observation: the total number of possible categories is twice as large as the set of categories from the product table.<br>"
   ]
  },
  {
   "cell_type": "code",
   "execution_count": null,
   "metadata": {
    "colab": {
     "base_uri": "https://localhost:8080/"
    },
    "id": "Qbj9cBqoQbtL",
    "outputId": "4e546fd9-f914-49b9-b4a7-ac6d0ed092f5"
   },
   "outputs": [
    {
     "data": {
      "text/plain": [
       "522"
      ]
     },
     "execution_count": 37,
     "metadata": {},
     "output_type": "execute_result"
    }
   ],
   "source": [
    "len(branches)"
   ]
  },
  {
   "cell_type": "markdown",
   "metadata": {
    "id": "B0E5N61CQfY3"
   },
   "source": [
    "We have 522 branch nodes. This is the bumber of classifiers that I need to train."
   ]
  },
  {
   "cell_type": "markdown",
   "metadata": {
    "id": "v3l4a1h1XF_3"
   },
   "source": [
    "# Data preparation"
   ]
  },
  {
   "cell_type": "markdown",
   "metadata": {
    "id": "rCx1BiX8hWEx"
   },
   "source": [
    "## Dataset Representation\n",
    "I represent dataset as a tree structure. Branch nodes generate labled dataset for each corresponding classifier and leaf nodes contain lists with data to path to branch nodes."
   ]
  },
  {
   "cell_type": "code",
   "execution_count": 158,
   "metadata": {
    "id": "2Tgh7pF9hZd3"
   },
   "outputs": [],
   "source": [
    "class Node():\n",
    "    def __init__(self, id):\n",
    "        self.id = id\n",
    "\n",
    "    def get_products(self):\n",
    "        pass\n",
    "\n",
    "\n",
    "class BranchNode(Node):\n",
    "    def __init__(self, id):\n",
    "        super().__init__(id)\n",
    "        self.subcategories = []\n",
    "    \n",
    "    def add_subcategory(self, category: Node):\n",
    "        self.subcategories.append(category)\n",
    "\n",
    "    def get_products(self):\n",
    "        products = None\n",
    "        for subcategory in self.subcategories:\n",
    "            id, prod = subcategory.get_products()\n",
    "\n",
    "            if products is None:\n",
    "                products = prod\n",
    "            elif prod is not None:\n",
    "                products = np.append(products, prod, axis=0)\n",
    "\n",
    "        return self.id, products\n",
    "\n",
    "    def get_dataset(self):\n",
    "        prod_id = None\n",
    "        prod_emb = None\n",
    "        for subcategory in self.subcategories:\n",
    "            id, products = subcategory.get_products()\n",
    "\n",
    "            if products is not None:\n",
    "\n",
    "                if prod_id is None:\n",
    "                    prod_id = [id] * len(products)\n",
    "                    prod_emb = products\n",
    "                else:\n",
    "                    prod_id = np.concatenate((prod_id, [id] * len(products)))\n",
    "                    prod_emb = np.append(prod_emb, products, axis=0)\n",
    "\n",
    "        return prod_emb, prod_id\n",
    "\n",
    "\n",
    "class LeafNode(Node):\n",
    "    def __init__(self, id):\n",
    "        super().__init__(id)\n",
    "        self.products = None\n",
    "\n",
    "    def add_product(self, product):\n",
    "        if self.products is None:\n",
    "            self.products = [product]\n",
    "        else:\n",
    "            self.products = np.append(self.products, [product], axis=0)\n",
    "\n",
    "    def get_products(self):\n",
    "        return self.id, self.products"
   ]
  },
  {
   "cell_type": "code",
   "execution_count": 14,
   "metadata": {
    "id": "QxYkuVkneaEV"
   },
   "outputs": [],
   "source": [
    "def create_dataset_tree(\n",
    "        root_id,\n",
    "        categories: pandas.core.frame.DataFrame,\n",
    "        leafs,\n",
    "        branches):\n",
    "    '''Starts from the root node and creates dataset tree.\n",
    "    '''\n",
    "    dataset_dict = {root_id: BranchNode(root_id)}\n",
    "    queue = Queue()\n",
    "    queue.put(root_id)\n",
    "\n",
    "    while not queue.empty():\n",
    "        id = queue.get_nowait()\n",
    "        \n",
    "        for child_id in list(categories[categories['parent_id'] == id]['id']):\n",
    "            if child_id in leafs or child_id in branches:\n",
    "                child = LeafNode(child_id) if child_id in leafs else BranchNode(child_id)\n",
    "                dataset_dict[child_id] = child\n",
    "                dataset_dict[id].add_subcategory(child)\n",
    "                queue.put(child_id)\n",
    "\n",
    "    return dataset_dict"
   ]
  },
  {
   "cell_type": "code",
   "execution_count": 15,
   "metadata": {
    "id": "YdwN3Kdi1qwE"
   },
   "outputs": [],
   "source": [
    "branches = np.load('branches.npy', allow_pickle=True)\n",
    "leafs = np.load('leafs.npy', allow_pickle=True)\n",
    "dataset_dict = create_dataset_tree(ROOT_ID, categories, leafs, branches)"
   ]
  },
  {
   "cell_type": "code",
   "execution_count": 16,
   "metadata": {
    "id": "KALuwggZqOb2"
   },
   "outputs": [],
   "source": [
    "def fill_dataset_with_products(dataset_dict, products, ids):\n",
    "    for product, id in tqdm(zip(products, ids)):\n",
    "        try:\n",
    "            dataset_dict[id].add_product(product)\n",
    "        except:\n",
    "            print(id)\n",
    "            break"
   ]
  },
  {
   "cell_type": "markdown",
   "metadata": {
    "id": "wLUe4abZCXpI"
   },
   "source": [
    "## Tokenization\n",
    "At first we need to find best way to tokenize our titles and descriptions.<br>\n",
    "I will compare lemmatization from [**Natasha**](https://natasha.github.io/), stemming from **nltk** and lemmatization from **pymorphy2**"
   ]
  },
  {
   "cell_type": "code",
   "execution_count": null,
   "metadata": {
    "colab": {
     "base_uri": "https://localhost:8080/"
    },
    "id": "MgPqWbFdDGC6",
    "outputId": "1fa5c3ec-f171-4452-9b4e-1299d67f22b2"
   },
   "outputs": [
    {
     "data": {
      "text/plain": [
       "['Muhle Manikure Песочные колпачки для педикюра 1015 PW Средний (150 грит) (упаковка 10 шт)',\n",
       " 'Sony Xperia L1 Защитное стекло 2,5D',\n",
       " 'Конверт для денег Прекрасная роза, 16,5 х 8 см']"
      ]
     },
     "execution_count": 42,
     "metadata": {},
     "output_type": "execute_result"
    }
   ],
   "source": [
    "list(products['title'])[:3]"
   ]
  },
  {
   "cell_type": "code",
   "execution_count": null,
   "metadata": {
    "colab": {
     "base_uri": "https://localhost:8080/"
    },
    "id": "6gABi2DDZPVy",
    "outputId": "eac2b091-fe79-4488-a448-d30b51a82afa"
   },
   "outputs": [
    {
     "data": {
      "text/plain": [
       "['Muhle Manikure Колпачок песочный шлифовальный для педикюра 1015 PW Белый Средний (150 грит) (упаковка 10 шт)',\n",
       " None,\n",
       " 'Конверт для денег «Прекрасная роза», 16,5 × 8 см']"
      ]
     },
     "execution_count": 43,
     "metadata": {},
     "output_type": "execute_result"
    }
   ],
   "source": [
    "list(products['short_description'])[:3]"
   ]
  },
  {
   "cell_type": "code",
   "execution_count": null,
   "metadata": {
    "id": "A4_SIQfbC-Xx"
   },
   "outputs": [],
   "source": [
    "stop_words = stopwords.words(\"russian\")\n",
    "stop_words += ['.', ',', '\"', '!',\n",
    "                 '?','(', ')', '-',\n",
    "                 ':', ';', '_', '\\\\']"
   ]
  },
  {
   "cell_type": "code",
   "execution_count": null,
   "metadata": {
    "id": "Muv1ocnDFmdE"
   },
   "outputs": [],
   "source": [
    "segmenter = natasha.Segmenter()\n",
    "nat_emb = natasha.NewsEmbedding()\n",
    "morph_tagger = natasha.NewsMorphTagger(nat_emb)\n",
    "morph_vocab = natasha.MorphVocab()\n",
    "\n",
    "\n",
    "def natasha_tokenize(text):\n",
    "    doc = natasha.Doc(text)\n",
    "    doc.segment(segmenter)\n",
    "    doc.tag_morph(morph_tagger)\n",
    "    for token in doc.tokens:\n",
    "        token.lemmatize(morph_vocab)\n",
    "    tokens = [_.lemma for _ in doc.tokens if _.lemma not in stop_words]\n",
    "    return tokens"
   ]
  },
  {
   "cell_type": "code",
   "execution_count": null,
   "metadata": {
    "id": "zniu73Iu49rh"
   },
   "outputs": [],
   "source": [
    "def nltk_tokenize(text):\n",
    "    tokens = word_tokenize(text, language=\"russian\")\n",
    "    filtered_tokens = []\n",
    "    for token in tokens:\n",
    "        if token not in stop_words:\n",
    "            filtered_tokens.append(token)\n",
    "\n",
    "    return filtered_tokens\n",
    "\n",
    "\n",
    "snowball = SnowballStemmer(language=\"russian\")\n",
    "\n",
    "def nltk_stem(text):\n",
    "    stemmed_tokens = []\n",
    "    for token in nltk_tokenize(text):\n",
    "        stemmed_tokens.append(snowball.stem(token))\n",
    "    return stemmed_tokens\n",
    "\n",
    "\n",
    "morph = pymorphy2.MorphAnalyzer()\n",
    "\n",
    "def pymorphy_lem(text):\n",
    "    lemmatized_tokens = []\n",
    "    for token in nltk_tokenize(text):\n",
    "        lemmatized_tokens.append(morph.parse(token)[0].normal_form)\n",
    "    \n",
    "    return lemmatized_tokens"
   ]
  },
  {
   "cell_type": "code",
   "execution_count": null,
   "metadata": {
    "id": "EOa1YnUxLPxf"
   },
   "outputs": [],
   "source": [
    "def check_dictionary_coverage(corpus, emb_dict, tok_func):\n",
    "    number = 0\n",
    "    sum = 0\n",
    "    missing = []\n",
    "    for sent in corpus:\n",
    "        tokens = tok_func(sent)\n",
    "        for token in tokens:\n",
    "            if token in emb_dict:\n",
    "                sum += 1\n",
    "            else:\n",
    "                missing.append(token)\n",
    "            number += 1\n",
    "\n",
    "    return sum / number, missing"
   ]
  },
  {
   "cell_type": "code",
   "execution_count": null,
   "metadata": {
    "id": "CCaJlWa0xrR3"
   },
   "outputs": [],
   "source": [
    "# fasttext embeddings\n",
    "ft = fasttext.load_model('cc.ru.300.bin')"
   ]
  },
  {
   "cell_type": "code",
   "execution_count": null,
   "metadata": {
    "colab": {
     "base_uri": "https://localhost:8080/"
    },
    "id": "gU2AvbAfMdgs",
    "outputId": "b9f98e88-1433-4b6f-8c44-4005ee9b1101"
   },
   "outputs": [
    {
     "name": "stdout",
     "output_type": "stream",
     "text": [
      "natasha: 0.9457831325301205\n",
      "nltk: 0.75\n",
      "pymorhy: 0.8710691823899371\n"
     ]
    }
   ],
   "source": [
    "natasha_coverage, _ = check_dictionary_coverage(products['title'][:100], ft.words, natasha_tokenize)\n",
    "nltk_coverage, _ = check_dictionary_coverage(products['title'][:100], ft.words, nltk_stem)\n",
    "pymorphy_coverage, _ = check_dictionary_coverage(products['title'][:100], ft.words, pymorphy_lem)\n",
    "print('natasha:', natasha_coverage)\n",
    "print('nltk:', nltk_coverage)\n",
    "print('pymorhy:', pymorphy_coverage)"
   ]
  },
  {
   "cell_type": "markdown",
   "metadata": {
    "id": "CcLo_lgZT2H_"
   },
   "source": [
    "As we can see tokenization via **natasha** gives the biggest match with **fasttext** embeddings dictionary.\n",
    "I will use this tokenization method for futher learning."
   ]
  },
  {
   "cell_type": "markdown",
   "metadata": {
    "id": "DaSdgi6pVBZO"
   },
   "source": [
    "## Embeddings\n",
    "Now I want to choose best embeddings.<br>\n",
    "I will compare embeddings from **fastext**, **natasha** and [**wikipedia2vec**](https://wikipedia2vec.github.io/wikipedia2vec/pretrained/)"
   ]
  },
  {
   "cell_type": "code",
   "execution_count": null,
   "metadata": {
    "id": "C4mtCNrfxt1b"
   },
   "outputs": [],
   "source": [
    "wiki2vec = Wikipedia2Vec.load('ruwiki_20180420_300d.pkl')"
   ]
  },
  {
   "cell_type": "code",
   "execution_count": null,
   "metadata": {
    "id": "zbGvOVaGykX1"
   },
   "outputs": [],
   "source": [
    "wiki2vec_dict = []\n",
    "for word in wiki2vec.dictionary.words():\n",
    "    wiki2vec_dict.append(word.text)"
   ]
  },
  {
   "cell_type": "code",
   "execution_count": null,
   "metadata": {
    "colab": {
     "base_uri": "https://localhost:8080/"
    },
    "id": "u6Ki1LCMVErS",
    "outputId": "971375a1-131e-448f-f02e-7a22cd2871bc"
   },
   "outputs": [
    {
     "name": "stdout",
     "output_type": "stream",
     "text": [
      "fasttext: 0.9457831325301205\n",
      "natasha: 0.6792168674698795\n",
      "wiki2vec: 0.8780120481927711\n"
     ]
    }
   ],
   "source": [
    "fasttext_cov, _ = check_dictionary_coverage(products['title'][:100], ft.words, natasha_tokenize)\n",
    "natasha_cov, _ = check_dictionary_coverage(products['title'][:100], nat_emb, natasha_tokenize)\n",
    "wiki2vec_cov, _ = check_dictionary_coverage(products['title'][:100], wiki2vec_dict, natasha_tokenize)\n",
    "print('fasttext:', fasttext_emb)\n",
    "print('natasha:', natasha_emb)\n",
    "print('wiki2vec:', wiki2vec_cov)"
   ]
  },
  {
   "cell_type": "markdown",
   "metadata": {
    "id": "w9hh3nQ-WvPE"
   },
   "source": [
    "**natasha**'s embeddings are learned on news and does not suit well for our task.<br>\n",
    "I will use `concatenation of fasttext and wiki2vec embeddings` for our task."
   ]
  },
  {
   "cell_type": "markdown",
   "metadata": {
    "id": "s8ZwrTbmcORi"
   },
   "source": [
    "## Data Preparation\n",
    "Let's generate embeddings for all products in dataset.<br>\n",
    "I will use arithmetic mean of embeddings of all the words in the sentence as input for fully connected classifier.<br>\n",
    "We have several columns in products table but only `title` and `short_description` are meaningful for feature extraction."
   ]
  },
  {
   "cell_type": "code",
   "execution_count": null,
   "metadata": {
    "id": "y3s2SUDlCU5b"
   },
   "outputs": [],
   "source": [
    "def vectorize(token):\n",
    "    try:\n",
    "        fast_text_vector = ft.get_word_vector(token)\n",
    "    except KeyError:\n",
    "        fast_text_vector = np.zeros((ft.get_dimension()))\n",
    "\n",
    "    try:\n",
    "        word2vec_vector = wiki2vec.get_word_vector(token)\n",
    "    except KeyError:\n",
    "        word2vec_vector = np.zeros((len(wiki2vec.get_word_vector('word'))))\n",
    "\n",
    "    return np.concatenate([word2vec_vector, fast_text_vector])\n",
    "\n",
    "\n",
    "def get_sent_emb(sentence):\n",
    "    tokens = natasha_tokenize(sentence)\n",
    "    sent_emb = []\n",
    "    for token in tokens:\n",
    "        sent_emb.append(vectorize(token))\n",
    "        \n",
    "    return np.mean(sent_emb, axis=0)"
   ]
  },
  {
   "cell_type": "code",
   "execution_count": null,
   "metadata": {
    "id": "ORCPtAd3kiLD"
   },
   "outputs": [],
   "source": [
    "avg_title_emb = []\n",
    "\n",
    "for title in tqdm(products['title']):\n",
    "    avg_title_emb.append(get_sent_emb(title))\n",
    "\n",
    "avg_title_emb = np.array(avg_title_emb)\n",
    "\n",
    "np.save('avg_title_emb', avg_title_emb)"
   ]
  },
  {
   "cell_type": "code",
   "execution_count": null,
   "metadata": {
    "id": "rA-AYfcdj2IO"
   },
   "outputs": [],
   "source": [
    "avg_title_emb = np.load('avg_title_emb.npy')"
   ]
  },
  {
   "cell_type": "markdown",
   "metadata": {
    "id": "Uyr6CJUl0q75"
   },
   "source": [
    "Now we have embeddings for all products and we can fill dataset tree with them."
   ]
  },
  {
   "cell_type": "code",
   "execution_count": null,
   "metadata": {
    "colab": {
     "base_uri": "https://localhost:8080/"
    },
    "id": "6gFO6kAx3pWO",
    "outputId": "f3a129fe-456a-4dfa-afa8-5db600a7c7f1"
   },
   "outputs": [
    {
     "name": "stderr",
     "output_type": "stream",
     "text": [
      "283451it [03:17, 1436.42it/s]\n"
     ]
    }
   ],
   "source": [
    "fill_dataset_with_products(dataset_dict, avg_title_emb, products['category_id'])"
   ]
  },
  {
   "cell_type": "markdown",
   "metadata": {
    "id": "4CO1y1FvYhYl"
   },
   "source": [
    "# Learning"
   ]
  },
  {
   "cell_type": "markdown",
   "metadata": {
    "id": "Sp2cFvOfGaum"
   },
   "source": [
    "## Root Classfier\n",
    "Let's test our method on classification of root categories"
   ]
  },
  {
   "cell_type": "code",
   "execution_count": null,
   "metadata": {
    "id": "auDj7wPtDJ1J"
   },
   "outputs": [],
   "source": [
    "title_emb, ids = dataset_dict[ROOT_ID].get_dataset()"
   ]
  },
  {
   "cell_type": "code",
   "execution_count": null,
   "metadata": {
    "colab": {
     "base_uri": "https://localhost:8080/",
     "height": 206
    },
    "id": "od0eAuo0yJL1",
    "outputId": "335fdede-31ac-4ece-c0f4-591d42a846b1"
   },
   "outputs": [
    {
     "data": {
      "text/html": [
       "<div>\n",
       "<style scoped>\n",
       "    .dataframe tbody tr th:only-of-type {\n",
       "        vertical-align: middle;\n",
       "    }\n",
       "\n",
       "    .dataframe tbody tr th {\n",
       "        vertical-align: top;\n",
       "    }\n",
       "\n",
       "    .dataframe thead th {\n",
       "        text-align: right;\n",
       "    }\n",
       "</style>\n",
       "<table border=\"1\" class=\"dataframe\">\n",
       "  <thead>\n",
       "    <tr style=\"text-align: right;\">\n",
       "      <th></th>\n",
       "      <th>id</th>\n",
       "      <th>title</th>\n",
       "      <th>parent_id</th>\n",
       "    </tr>\n",
       "  </thead>\n",
       "  <tbody>\n",
       "    <tr>\n",
       "      <th>325</th>\n",
       "      <td>10003</td>\n",
       "      <td>Аксессуары</td>\n",
       "      <td>1</td>\n",
       "    </tr>\n",
       "    <tr>\n",
       "      <th>334</th>\n",
       "      <td>10012</td>\n",
       "      <td>Красота</td>\n",
       "      <td>1</td>\n",
       "    </tr>\n",
       "    <tr>\n",
       "      <th>336</th>\n",
       "      <td>10014</td>\n",
       "      <td>Одежда</td>\n",
       "      <td>1</td>\n",
       "    </tr>\n",
       "    <tr>\n",
       "      <th>339</th>\n",
       "      <td>10018</td>\n",
       "      <td>Товары для дома</td>\n",
       "      <td>1</td>\n",
       "    </tr>\n",
       "    <tr>\n",
       "      <th>341</th>\n",
       "      <td>10020</td>\n",
       "      <td>Электроника</td>\n",
       "      <td>1</td>\n",
       "    </tr>\n",
       "  </tbody>\n",
       "</table>\n",
       "</div>"
      ],
      "text/plain": [
       "        id            title  parent_id\n",
       "325  10003       Аксессуары          1\n",
       "334  10012          Красота          1\n",
       "336  10014           Одежда          1\n",
       "339  10018  Товары для дома          1\n",
       "341  10020      Электроника          1"
      ]
     },
     "execution_count": 25,
     "metadata": {},
     "output_type": "execute_result"
    }
   ],
   "source": [
    "categories[categories['id'].isin(set(ids))]"
   ]
  },
  {
   "cell_type": "code",
   "execution_count": null,
   "metadata": {
    "id": "LMnXOVYmFGk2"
   },
   "outputs": [],
   "source": [
    "unique, counts = np.unique(id, return_counts=True)"
   ]
  },
  {
   "cell_type": "code",
   "execution_count": null,
   "metadata": {
    "colab": {
     "base_uri": "https://localhost:8080/",
     "height": 248
    },
    "id": "NmzCE5ENEJYI",
    "outputId": "cb30a6d9-9a66-4563-f647-502475d2c294"
   },
   "outputs": [
    {
     "data": {
      "image/png": "[encoded data removed]",
      "text/plain": [
       "<Figure size 432x288 with 1 Axes>"
      ]
     },
     "metadata": {},
     "output_type": "display_data"
    }
   ],
   "source": [
    "plt.pie(counts, labels=unique)\n",
    "plt.show()"
   ]
  },
  {
   "cell_type": "markdown",
   "metadata": {
    "id": "TFPLANDIGJzD"
   },
   "source": [
    "As we can see we have products only from five root categories and they are balanced pretty well."
   ]
  },
  {
   "cell_type": "markdown",
   "metadata": {
    "id": "FNEH-HnNzNK-"
   },
   "source": [
    "### Data Loaders"
   ]
  },
  {
   "cell_type": "code",
   "execution_count": 19,
   "metadata": {
    "id": "7rRphnOv_cc2"
   },
   "outputs": [],
   "source": [
    "def create_labels(ids):\n",
    "    '''Converts list of product ids into indexes from zero to (len(ids) - 1)\n",
    "\n",
    "    Returns:\n",
    "        list of corresponding indexes for given ids\n",
    "        and dictionry for reverse mapping from index to id\n",
    "    '''\n",
    "    unique = np.unique(ids)\n",
    "    labels = [np.where(unique == id)[0][0] for id in ids]\n",
    "    labels_dict = {index: id for index, id in enumerate(unique)}\n",
    "    return labels, labels_dict"
   ]
  },
  {
   "cell_type": "code",
   "execution_count": null,
   "metadata": {
    "id": "WjYW27tPKGNX"
   },
   "outputs": [],
   "source": [
    "labels, labels_dict = create_labels(ids)"
   ]
  },
  {
   "cell_type": "code",
   "execution_count": null,
   "metadata": {
    "id": "cKRDI6m2kg8R"
   },
   "outputs": [],
   "source": [
    "np.save('./labels_dict/1.npy', labels_dict)"
   ]
  },
  {
   "cell_type": "code",
   "execution_count": null,
   "metadata": {
    "id": "EPKUmREsGeFL"
   },
   "outputs": [],
   "source": [
    "X_train, X_test, y_train, y_test = train_test_split(\n",
    "                                       title_emb, \n",
    "                                       labels, \n",
    "                                       test_size=0.1, \n",
    "                                       random_state=SEED)"
   ]
  },
  {
   "cell_type": "code",
   "execution_count": null,
   "metadata": {
    "id": "N8SUREUU09HX"
   },
   "outputs": [],
   "source": [
    "batch_size = 32\n",
    "num_workers = 2\n",
    "\n",
    "train_loader = DataLoader(list(zip(X_train, y_train)), \n",
    "                          batch_size=batch_size, \n",
    "                          num_workers=num_workers, \n",
    "                          shuffle=True, \n",
    "                          drop_last=True)\n",
    "\n",
    "valid_loader = DataLoader(list(zip(X_test, y_test)), \n",
    "                          batch_size=batch_size, \n",
    "                          num_workers=num_workers, \n",
    "                          shuffle=False, \n",
    "                          drop_last=True)"
   ]
  },
  {
   "cell_type": "markdown",
   "metadata": {
    "id": "m1CndHfsYU06"
   },
   "source": [
    "### Learning"
   ]
  },
  {
   "cell_type": "code",
   "execution_count": 18,
   "metadata": {
    "id": "qRn51wFp1dQB"
   },
   "outputs": [],
   "source": [
    "def train_model(\n",
    "        model, \n",
    "        model_id, # Category id corresponding to this model \n",
    "        train_loader, \n",
    "        valid_loader,\n",
    "        num_epochs=10):\n",
    "    \n",
    "    model.double()\n",
    "    model = model.to(device)\n",
    "    criterion = nn.CrossEntropyLoss()\n",
    "    optimizer = torch.optim.AdamW(model.parameters())\n",
    "\n",
    "    loaders = {\"train\": train_loader, \"valid\": valid_loader}\n",
    "    accuracy = {\"train\": [], \"valid\": []}\n",
    "    best_accuracy = 0\n",
    "\n",
    "\n",
    "    for epoch in range(num_epochs):\n",
    "        print(f'\\nEpoch: {epoch + 1}')\n",
    "        for k, dataloader in loaders.items():\n",
    "            epoch_correct = 0\n",
    "            epoch_all = 0\n",
    "\n",
    "            for x_batch, y_batch in dataloader:\n",
    "\n",
    "                x_batch = x_batch.to(device)\n",
    "                y_batch = y_batch.to(device)\n",
    "\n",
    "                if k == \"train\":\n",
    "                    model.train()\n",
    "                    optimizer.zero_grad()\n",
    "                    outp = model(x_batch)\n",
    "                else:\n",
    "                    model.eval()\n",
    "                    with torch.no_grad():\n",
    "                        outp = model(x_batch)\n",
    "\n",
    "                preds = outp.argmax(-1)\n",
    "                correct = (preds == y_batch).sum()\n",
    "                all = len(outp)\n",
    "                epoch_correct += correct.item()\n",
    "                epoch_all += all\n",
    "\n",
    "                if k == \"train\":\n",
    "                    loss = criterion(outp, y_batch)\n",
    "                    loss.backward()\n",
    "                    optimizer.step()\n",
    "\n",
    "            print(f\"Loader: {k}. Accuracy: {round(epoch_correct/epoch_all, 4)}\")\n",
    "\n",
    "            accuracy[k].append(epoch_correct/epoch_all)\n",
    "\n",
    "            if k == 'valid' and accuracy['valid'][-1] > best_accuracy:\n",
    "                torch.save(model.state_dict(), f'./models/{model_id}.pt')\n",
    "                best_accuracy = accuracy['valid'][-1]\n",
    "\n",
    "    print('\\nBest accuracy:\\n')\n",
    "    print('train:', round(max(accuracy['train']), 4))\n",
    "    print('test:', round(max(accuracy['valid']), 4))\n",
    "    model.load_state_dict(torch.load(f'./models/{model_id}.pt', map_location=device))\n",
    "    return round(max(accuracy['train']), 4), round(max(accuracy['valid']), 4)"
   ]
  },
  {
   "cell_type": "markdown",
   "metadata": {
    "id": "mZqBcmTO2RfD"
   },
   "source": [
    "Here I will try to use different architectures of classificators"
   ]
  },
  {
   "cell_type": "code",
   "execution_count": null,
   "metadata": {
    "id": "1Pgrpo4Y-uPd"
   },
   "outputs": [],
   "source": [
    "model1 = nn.Sequential(\n",
    "    nn.BatchNorm1d(600),\n",
    "    nn.Linear(600, 200),\n",
    "    nn.BatchNorm1d(200),\n",
    "    nn.ReLU(),\n",
    "    nn.Linear(200, 100),\n",
    "    nn.BatchNorm1d(100),\n",
    "    nn.ReLU(),\n",
    "    nn.Linear(100, 50),\n",
    "    nn.BatchNorm1d(50),\n",
    "    nn.ReLU(),\n",
    "    nn.Linear(50, 5)\n",
    ")\n",
    "\n",
    "train_model(model1, ROOT_ID, train_loader, valid_loader)"
   ]
  },
  {
   "cell_type": "code",
   "execution_count": null,
   "metadata": {
    "id": "LTQ3H_6trH3n"
   },
   "outputs": [],
   "source": [
    "models = {}"
   ]
  },
  {
   "cell_type": "code",
   "execution_count": null,
   "metadata": {
    "id": "XZHVEpLzo14P"
   },
   "outputs": [],
   "source": [
    "def test_model(hid_size, model=None, num_epochs=10):\n",
    "    if model is None: \n",
    "        model = nn.Sequential(\n",
    "            nn.BatchNorm1d(600),\n",
    "            nn.Linear(600, hid_size),\n",
    "            nn.BatchNorm1d(hid_size),\n",
    "            nn.ReLU(),\n",
    "            nn.Linear(hid_size, 5))\n",
    "\n",
    "    train, test = train_model(model, f'model{hid_size}', num_epochs)\n",
    "\n",
    "    return {'model': model,\n",
    "            'train': train,\n",
    "            'test': test}"
   ]
  },
  {
   "cell_type": "code",
   "execution_count": null,
   "metadata": {
    "id": "E5E8mG9jrKCk"
   },
   "outputs": [],
   "source": [
    "models[100] = test_model(100)"
   ]
  },
  {
   "cell_type": "code",
   "execution_count": null,
   "metadata": {
    "colab": {
     "base_uri": "https://localhost:8080/"
    },
    "id": "WR8XWAbK3RkN",
    "outputId": "5d52bd8b-6a6f-4ae1-bbb9-f37221230d85"
   },
   "outputs": [
    {
     "name": "stdout",
     "output_type": "stream",
     "text": [
      "hid_size=100: test_acc=0.95763\n",
      "hid_size=10: test_acc=0.9432\n",
      "hid_size=15: test_acc=0.9472\n",
      "hid_size=25: test_acc=0.9526\n",
      "hid_size=35: test_acc=0.9539\n",
      "hid_size=50: test_acc=0.9561\n",
      "hid_size=64: test_acc=0.957\n",
      "\n",
      "deep_model: test acc=0.9602\n"
     ]
    }
   ],
   "source": [
    "for key, value in models.items():\n",
    "    test = value['test']\n",
    "    train = value['train']\n",
    "    print(f'hid_size={key}: test_acc={test}')\n",
    "    # print(value['test'])\n",
    "\n",
    "print('\\ndeep_model: test acc=0.9602')"
   ]
  },
  {
   "cell_type": "code",
   "execution_count": null,
   "metadata": {
    "colab": {
     "base_uri": "https://localhost:8080/"
    },
    "id": "P7oE2MYWh-AJ",
    "outputId": "9632ccda-8255-419e-fdff-3be89f2fe303"
   },
   "outputs": [
    {
     "data": {
      "text/plain": [
       "0.9601112269326004"
      ]
     },
     "execution_count": 62,
     "metadata": {},
     "output_type": "execute_result"
    }
   ],
   "source": [
    "model1.eval()\n",
    "with torch.no_grad():\n",
    "    outp = model1(torch.tensor(X_test).to(device))\n",
    "preds = outp.argmax(-1)\n",
    "\n",
    "f1_score(y_test, preds.cpu(), average='weighted')"
   ]
  },
  {
   "cell_type": "markdown",
   "metadata": {
    "id": "PwjFMkKMMaqo"
   },
   "source": [
    "As we can see architecture of `RNN with 3 layers` gives **increase of 0.003** in accuracy compared with `1 layer RNN` with 64 hidden neurons.<br>\n",
    "As for comparison of number of hidden neurons I concluded that `64 is enough` as it gives `the same result as 100`.<br>\n",
    "In our case 1 layer RNN does not get overfitted and the most optimal number of epochs is 10."
   ]
  },
  {
   "cell_type": "markdown",
   "metadata": {
    "id": "ClYhTm1MiV1H"
   },
   "source": [
    "## Classification Tree\n",
    "My classifier will have a tree structure with one layer RNN in each branch node.<br>\n",
    "`predict()` method will be called from root node than root classifier will decide which sub-classifier to call. This process continues until we reach leaf category.<br>\n",
    "`predict()` method will return all the path through the tree"
   ]
  },
  {
   "cell_type": "code",
   "execution_count": 152,
   "metadata": {
    "id": "7P1LonTbWXuF"
   },
   "outputs": [],
   "source": [
    "class ClassNode():\n",
    "    def __init__(self, id):\n",
    "        self.id = id\n",
    "        self.parent = None\n",
    "\n",
    "    def predict(self, embedding):\n",
    "        pass\n",
    "\n",
    "\n",
    "class ClassBranch(ClassNode):\n",
    "    def __init__(self, id):\n",
    "        '''Loads pretrained classifier from disc by category id\n",
    "        '''\n",
    "        super().__init__(id)\n",
    "        try:\n",
    "            self.labels_dict = np.load(f'./labels_dict/{id}.npy', allow_pickle=True).item()\n",
    "\n",
    "            self.model = nn.Sequential(\n",
    "                nn.BatchNorm1d(600),\n",
    "                nn.Linear(600, 64),\n",
    "                nn.BatchNorm1d(64),\n",
    "                nn.ReLU(),\n",
    "                nn.Linear(64, len(self.labels_dict)))\n",
    "            self.model.load_state_dict(torch.load(f'./models/{id}.pt', map_location='cpu'))\n",
    "            self.model.double()\n",
    "            self.model.eval()\n",
    "        except:\n",
    "            pass\n",
    "\n",
    "        self.subcategories = {}\n",
    "\n",
    "    def predict(self, embedding, path=None):\n",
    "        with torch.no_grad():\n",
    "            outp = self.model(torch.tensor(np.expand_dims(embedding, axis=0)))\n",
    "        pred = int(outp.argmax(-1))\n",
    "        prod_cat = self.labels_dict[pred]\n",
    "\n",
    "        if path is None:\n",
    "            path = []\n",
    "        else:\n",
    "            path.append(self.id)\n",
    "        return self.subcategories[prod_cat].predict(embedding, path)\n",
    "    \n",
    "    def add_subcategory(self, category: ClassNode):\n",
    "        self.subcategories[category.id] = category\n",
    "        category.parent = self\n",
    "\n",
    "    def get_parent(self, path):\n",
    "        '''Help method for get_parents() in ClassLeaf\n",
    "        Adds parents to the path for a given leaf\n",
    "        '''\n",
    "        if self.parent == None:\n",
    "            return list(reversed(path))\n",
    "        else:\n",
    "            path.append(self.id)\n",
    "            return self.parent.get_parent(path)\n",
    "\n",
    "\n",
    "class ClassLeaf(ClassNode):\n",
    "    def __init__(self, id):\n",
    "        super().__init__(id)\n",
    "        \n",
    "    def predict(self, embedding, path: list):\n",
    "        path.append(self.id)\n",
    "        return path\n",
    "\n",
    "    def get_parents(self):\n",
    "        '''Returns all the path from root to this leaf category\n",
    "        '''\n",
    "        return self.parent.get_parent([self.id])"
   ]
  },
  {
   "cell_type": "markdown",
   "metadata": {
    "id": "vXRnratpWNjQ"
   },
   "source": [
    "### Train Model"
   ]
  },
  {
   "cell_type": "code",
   "execution_count": 52,
   "metadata": {
    "id": "zW062p7Qo4Ep"
   },
   "outputs": [],
   "source": [
    "def train_model(\n",
    "        model, \n",
    "        model_id, \n",
    "        dataloader,\n",
    "        num_epochs=10):\n",
    "    \n",
    "    model.double()\n",
    "    model = model.to(device)\n",
    "    model.train()\n",
    "    criterion = nn.CrossEntropyLoss()\n",
    "    optimizer = torch.optim.AdamW(model.parameters())\n",
    "\n",
    "    accuracy = []\n",
    "    best_accuracy = 0\n",
    "\n",
    "\n",
    "    for epoch in range(num_epochs):\n",
    "        print(f'\\nEpoch: {epoch + 1}')\n",
    "        epoch_correct = 0\n",
    "        epoch_all = 0\n",
    "\n",
    "        for x_batch, y_batch in dataloader:\n",
    "\n",
    "            x_batch = x_batch.to(device)\n",
    "            y_batch = y_batch.to(device)\n",
    "\n",
    "            optimizer.zero_grad()\n",
    "            outp = model(x_batch)\n",
    "\n",
    "            preds = outp.argmax(-1)\n",
    "            correct = (preds == y_batch).sum()\n",
    "            all = len(outp)\n",
    "            epoch_correct += correct.item()\n",
    "            epoch_all += all\n",
    "\n",
    "            loss = criterion(outp, y_batch)\n",
    "            loss.backward()\n",
    "            optimizer.step()\n",
    "\n",
    "        print(f'Accuracy: {round(epoch_correct/epoch_all, 4)}')\n",
    "\n",
    "        accuracy.append(epoch_correct/epoch_all)\n",
    "\n",
    "        if accuracy[-1] > best_accuracy:\n",
    "            torch.save(model.state_dict(), f'./models/{model_id}.pt')\n",
    "            best_accuracy = accuracy[-1]\n",
    "\n",
    "    print(f'\\nBest accuracy: {round(max(accuracy), 4)}\\n')\n",
    "    model.load_state_dict(torch.load(f'./models/{model_id}.pt', map_location=device))\n",
    "    return round(max(accuracy), 4)"
   ]
  },
  {
   "cell_type": "code",
   "execution_count": null,
   "metadata": {
    "id": "8mpehFvLcZxb"
   },
   "outputs": [],
   "source": [
    "# models_stat = {}\n",
    "# np.save('models_stat', models_stat)\n",
    "np.load('models_stat.npy', allow_pickle=True).item()"
   ]
  },
  {
   "cell_type": "code",
   "execution_count": null,
   "metadata": {
    "id": "KGAGKggnRqRV"
   },
   "outputs": [],
   "source": [
    "def create_labels(ids):\n",
    "    '''Converts list of product ids into indexes from zero to (len(ids) - 1)\n",
    "\n",
    "    Returns:\n",
    "        list of corresponding indexes for given ids\n",
    "        and dictionry for reverse mapping from index to id\n",
    "    '''\n",
    "    unique = np.unique(ids)\n",
    "    labels = [np.where(unique == id)[0][0] for id in ids]\n",
    "    labels_dict = {index: id for index, id in enumerate(unique)}\n",
    "    return labels, labels_dict"
   ]
  },
  {
   "cell_type": "code",
   "execution_count": 74,
   "metadata": {
    "id": "YSERnWmNWR8V"
   },
   "outputs": [],
   "source": [
    "def train_model_pipe(id, dataset):\n",
    "    '''Trains Branch classifier for Classification tree\n",
    "    and saves it's parameters to the disc\n",
    "    '''\n",
    "    title_emb, ids = dataset\n",
    "    labels, labels_dict = create_labels(ids)\n",
    "    np.save(f'./labels_dict/{id}.npy', labels_dict)\n",
    "\n",
    "    batch_size = 4 if len(labels) >= 4 else len(labels)\n",
    "    num_workers = 2\n",
    "\n",
    "    loader = DataLoader(list(zip(title_emb, labels)), batch_size=batch_size, num_workers=num_workers, shuffle=True, drop_last=True)\n",
    "\n",
    "    model = nn.Sequential(\n",
    "                nn.BatchNorm1d(600),\n",
    "                nn.Linear(600, 64),\n",
    "                nn.BatchNorm1d(64),\n",
    "                nn.ReLU(),\n",
    "                nn.Linear(64, len(labels_dict)))\n",
    "\n",
    "    acc = train_model(model, id, loader, num_epochs=10)\n",
    "\n",
    "    models_stat = np.load('models_stat.npy', allow_pickle=True).item()\n",
    "    models_stat[id] = acc\n",
    "    np.save('models_stat', models_stat)"
   ]
  },
  {
   "cell_type": "markdown",
   "metadata": {
    "id": "taLOMttFZwDD"
   },
   "source": [
    "### Train Tree"
   ]
  },
  {
   "cell_type": "code",
   "execution_count": 31,
   "metadata": {
    "id": "uRmV-yh3Zx44"
   },
   "outputs": [],
   "source": [
    "def train_tree(root_node: BranchNode):\n",
    "    '''Trains all needed classifiers for classification tree\n",
    "    In our case dataset is incomplete it does not have products for all \n",
    "    possible leaf categories. So, this methods trains classifiers only for \n",
    "    nonempty categories.\n",
    "\n",
    "    Args:\n",
    "        root_node: root node of filled with products dataset tree\n",
    "    '''\n",
    "    queue = Queue()\n",
    "    queue.put(root_node)\n",
    "\n",
    "    ready = []\n",
    "    count = 0\n",
    "    \n",
    "    while not queue.empty():\n",
    "        node = queue.get_nowait()\n",
    "\n",
    "        if type(node) is BranchNode:\n",
    "            dataset = node.get_dataset()\n",
    "\n",
    "            if dataset[0] is not None:\n",
    "                count += 1\n",
    "                clear_output()\n",
    "                print(f'Classifier number {count}\\n\\n')\n",
    "\n",
    "                train_model_pipe(node.id, dataset)\n",
    "                ready.append(node.id)\n",
    "                np.save('ready', ready)\n",
    "\n",
    "            for child in node.subcategories:\n",
    "                queue.put(child)"
   ]
  },
  {
   "cell_type": "code",
   "execution_count": 25,
   "metadata": {
    "id": "DcUGDAHLjGwd"
   },
   "outputs": [],
   "source": [
    "empty = np.load('empty.npy', allow_pickle=True)"
   ]
  },
  {
   "cell_type": "code",
   "execution_count": 30,
   "metadata": {
    "colab": {
     "base_uri": "https://localhost:8080/"
    },
    "id": "uAfUiSSzlBRv",
    "outputId": "01d13535-ddb2-4815-ba7e-c9adca98af01"
   },
   "outputs": [
    {
     "data": {
      "text/plain": [
       "245"
      ]
     },
     "execution_count": 30,
     "metadata": {},
     "output_type": "execute_result"
    }
   ],
   "source": [
    "len(branches) - len(empty)"
   ]
  },
  {
   "cell_type": "markdown",
   "metadata": {
    "id": "lsrxNpjYfx1b"
   },
   "source": [
    "### Learning"
   ]
  },
  {
   "cell_type": "code",
   "execution_count": 2,
   "metadata": {
    "id": "qNMuQ0NTf2OJ"
   },
   "outputs": [],
   "source": [
    "avg_title_emb = np.load('avg_title_emb.npy')"
   ]
  },
  {
   "cell_type": "code",
   "execution_count": 9,
   "metadata": {
    "id": "7RR6QE1viYd-"
   },
   "outputs": [],
   "source": [
    "X_train, X_test, y_train, y_test = train_test_split(avg_title_emb, products['category_id'], test_size=0.1, random_state=SEED)"
   ]
  },
  {
   "cell_type": "code",
   "execution_count": 17,
   "metadata": {
    "colab": {
     "base_uri": "https://localhost:8080/"
    },
    "id": "Ed01wlOkf8N2",
    "outputId": "652f128b-8faa-4cc4-d5cd-9f7c51cd4158"
   },
   "outputs": [
    {
     "name": "stderr",
     "output_type": "stream",
     "text": [
      "255105it [02:57, 1436.87it/s]\n"
     ]
    }
   ],
   "source": [
    "fill_dataset_with_products(dataset_dict, X_train, y_train)"
   ]
  },
  {
   "cell_type": "markdown",
   "metadata": {
    "id": "fAGHWFwBCSPj"
   },
   "source": [
    "We are having 245 branch nodes with non-empty leafs (they have some products from the table). It means that I need to train 245 classifiers."
   ]
  },
  {
   "cell_type": "code",
   "execution_count": 76,
   "metadata": {
    "colab": {
     "base_uri": "https://localhost:8080/"
    },
    "id": "V9GlMTpSlOBx",
    "outputId": "23c696a4-1cf9-4a39-d834-62c9ba97f534"
   },
   "outputs": [
    {
     "name": "stdout",
     "output_type": "stream",
     "text": [
      "Classifier number 245\n",
      "\n",
      "\n",
      "\n",
      "Epoch: 1\n",
      "Accuracy: 0.8429\n",
      "\n",
      "Epoch: 2\n",
      "Accuracy: 0.9143\n",
      "\n",
      "Epoch: 3\n",
      "Accuracy: 0.9429\n",
      "\n",
      "Epoch: 4\n",
      "Accuracy: 0.95\n",
      "\n",
      "Epoch: 5\n",
      "Accuracy: 0.9429\n",
      "\n",
      "Epoch: 6\n",
      "Accuracy: 0.9643\n",
      "\n",
      "Epoch: 7\n",
      "Accuracy: 0.9643\n",
      "\n",
      "Epoch: 8\n",
      "Accuracy: 0.9786\n",
      "\n",
      "Epoch: 9\n",
      "Accuracy: 0.9214\n",
      "\n",
      "Epoch: 10\n",
      "Accuracy: 0.9714\n",
      "\n",
      "Best accuracy: 0.9786\n",
      "\n"
     ]
    }
   ],
   "source": [
    "train_tree(dataset_dict[ROOT_ID])"
   ]
  },
  {
   "cell_type": "markdown",
   "metadata": {
    "id": "AoiLr68jZB4p"
   },
   "source": [
    "### Assembling the classification tree\n",
    "Now we have learned all needed RNNs and we can construct classification tree and test it."
   ]
  },
  {
   "cell_type": "code",
   "execution_count": 88,
   "metadata": {
    "id": "STPPcRFTZLu4"
   },
   "outputs": [],
   "source": [
    "def assemble_classification_tree(\n",
    "        root_id,\n",
    "        categories: pandas.core.frame.DataFrame,\n",
    "        leafs,\n",
    "        branches):\n",
    "    '''Starts from the root node and creates dataset tree.\n",
    "    '''\n",
    "    classification_dict = {root_id: ClassBranch(root_id)}\n",
    "    queue = Queue()\n",
    "    queue.put(root_id)\n",
    "\n",
    "    while not queue.empty():\n",
    "        id = queue.get_nowait()\n",
    "        \n",
    "        for child_id in list(categories[categories['parent_id'] == id]['id']):\n",
    "            if child_id in leafs or child_id in branches:\n",
    "                child = ClassLeaf(child_id) if child_id in leafs else ClassBranch(child_id)\n",
    "                classification_dict[child_id] = child\n",
    "                classification_dict[id].add_subcategory(child)\n",
    "                queue.put(child_id)\n",
    "\n",
    "    return classification_dict"
   ]
  },
  {
   "cell_type": "code",
   "execution_count": 155,
   "metadata": {
    "id": "X-SqBEUMdjt_"
   },
   "outputs": [],
   "source": [
    "branches = np.load('branches.npy', allow_pickle=True)\n",
    "leafs = np.load('leafs.npy', allow_pickle=True)\n",
    "classificator_dict = assemble_classification_tree(ROOT_ID, categories, leafs, branches)"
   ]
  },
  {
   "cell_type": "markdown",
   "metadata": {
    "id": "QI-0Z20CJias"
   },
   "source": [
    "Prediction: from parents to leaf"
   ]
  },
  {
   "cell_type": "code",
   "execution_count": 157,
   "metadata": {
    "colab": {
     "base_uri": "https://localhost:8080/"
    },
    "id": "5Fgi25HleMKt",
    "outputId": "afab072a-4aaf-4040-d83d-adbbbf445e2d"
   },
   "outputs": [
    {
     "data": {
      "text/plain": [
       "[10018, 10118, 10749, 13885]"
      ]
     },
     "execution_count": 157,
     "metadata": {},
     "output_type": "execute_result"
    }
   ],
   "source": [
    "classificator_dict[ROOT_ID].predict(X_test[0])"
   ]
  },
  {
   "cell_type": "markdown",
   "metadata": {
    "id": "yiysbzZ2JmR0"
   },
   "source": [
    "True leaf category"
   ]
  },
  {
   "cell_type": "code",
   "execution_count": 99,
   "metadata": {
    "colab": {
     "base_uri": "https://localhost:8080/"
    },
    "id": "fGiA1rvfgMTJ",
    "outputId": "6ec3ad18-c4f9-4537-b937-eb2260e67392"
   },
   "outputs": [
    {
     "data": {
      "text/plain": [
       "13885"
      ]
     },
     "execution_count": 99,
     "metadata": {},
     "output_type": "execute_result"
    }
   ],
   "source": [
    "list(y_test)[0]"
   ]
  },
  {
   "cell_type": "markdown",
   "metadata": {
    "id": "SnOxz1g5Jw7a"
   },
   "source": [
    "True path through the category tree"
   ]
  },
  {
   "cell_type": "code",
   "execution_count": 156,
   "metadata": {
    "colab": {
     "base_uri": "https://localhost:8080/"
    },
    "id": "fBW2wZbqOuvg",
    "outputId": "9add0da3-da29-4210-ff4f-dde96d7de552"
   },
   "outputs": [
    {
     "data": {
      "text/plain": [
       "[10018, 10118, 10749, 13885]"
      ]
     },
     "execution_count": 156,
     "metadata": {},
     "output_type": "execute_result"
    }
   ],
   "source": [
    "classificator_dict[13885].get_parents()"
   ]
  },
  {
   "cell_type": "markdown",
   "metadata": {
    "id": "McK7CVnPJ7yc"
   },
   "source": [
    "As we can see first test sample is correct"
   ]
  },
  {
   "cell_type": "markdown",
   "metadata": {
    "id": "cGzRgYsjhFMI"
   },
   "source": [
    "# Testing\n"
   ]
  },
  {
   "cell_type": "code",
   "execution_count": 133,
   "metadata": {
    "id": "ojacQpL1Tx2r"
   },
   "outputs": [],
   "source": [
    "true = [cat_dict[id].get_parents() for id in y_test]"
   ]
  },
  {
   "cell_type": "code",
   "execution_count": 129,
   "metadata": {
    "id": "Dkytxxq0bW5l"
   },
   "outputs": [],
   "source": [
    "predictions = [classification_dict[ROOT_ID].predict(emb) for emb in X_test]"
   ]
  },
  {
   "cell_type": "markdown",
   "metadata": {
    "id": "aRQtjR92Klx9"
   },
   "source": [
    "Let's count **Hierarchical F1-score**\n",
    "\n",
    "![](https://messy-mackerel-9e0.notion.site/image/https%3A%2F%2Fs3-us-west-2.amazonaws.com%2Fsecure.notion-static.com%2Ff205aea0-8af8-4f2f-a83a-74dbc751979b%2FUntitled.png?table=block&id=c87459f2-564e-4fe0-a67b-e5b1f984884e&spaceId=759a960a-baaf-4da2-bac4-158524dd503c&width=2000&userId=&cache=v2)\n",
    "**Pi -** is a set consisting of the classes predicted for each sample i and the corresponding ancestor classes\n",
    "\n",
    "**Ti -** is a set consisting of the true classes of the test sample i and the corresponding ancestral classes\n",
    "\n",
    "**hP** - hierarchical precision\n",
    "\n",
    "**hR** - hierarchical recall\n",
    "\n",
    "**hF** - hierarchical F1\n",
    "\n",
    "For better understanding refer: [article 1](https://messy-mackerel-9e0.notion.site/KazanExpress-a1c88a25015041688c122b519ecb3078), [article 2](https://towardsdatascience.com/hierarchical-performance-metrics-and-where-to-find-them-7090aaa07183)"
   ]
  },
  {
   "cell_type": "code",
   "execution_count": 169,
   "metadata": {
    "id": "pcPtDR-6S2FP"
   },
   "outputs": [],
   "source": [
    "def hf_score(category_path: list, predictions: list, true_paths: list):\n",
    "    '''Computes hieratchical F1 for given product category.\n",
    "\n",
    "    Args:\n",
    "        category_id: Path to category to count hF1 score for\n",
    "        predictions: List of paths to predicted leafs from test dataset.\n",
    "        true_paths: List of paths to true lefs from test dataset.\n",
    "\n",
    "    Returns:\n",
    "        Counted hF1 score\n",
    "    '''\n",
    "    p = 0\n",
    "    t = 0\n",
    "    p_t = 0\n",
    "\n",
    "    category_path = set(category_path)\n",
    "\n",
    "    for prediction, true in zip(predictions, true_paths):\n",
    "        prediction = set(prediction)\n",
    "        pi = category_path & prediction\n",
    "        p += len(pi)\n",
    "\n",
    "        true = set(true)\n",
    "        ti = category_path & true\n",
    "        t += len(ti)\n",
    "\n",
    "        pi_ti = pi & ti\n",
    "        p_t += len(pi_ti)\n",
    "\n",
    "    \n",
    "    hp = p_t / p\n",
    "    hr = p_t / t\n",
    "\n",
    "    hf = (2 * hp * hr) / (hp + hr)\n",
    "\n",
    "    return hf"
   ]
  },
  {
   "cell_type": "markdown",
   "metadata": {
    "id": "r5MhEY-XMkcy"
   },
   "source": [
    "Let's compute scores for all product categories"
   ]
  },
  {
   "cell_type": "code",
   "execution_count": 170,
   "metadata": {
    "id": "tQJdEL-Acckw"
   },
   "outputs": [],
   "source": [
    "scores = [hf_score(classificator_dict[category].get_parents(), predictions, true) for category in products['category_id'].unique()]"
   ]
  },
  {
   "cell_type": "markdown",
   "metadata": {
    "id": "iK68fpzdMsf9"
   },
   "source": [
    "Average hF1 score for all calsses:"
   ]
  },
  {
   "cell_type": "code",
   "execution_count": 171,
   "metadata": {
    "colab": {
     "base_uri": "https://localhost:8080/"
    },
    "id": "LNJTsbskdSgI",
    "outputId": "59a88099-593e-4043-d404-48a4282b19bb"
   },
   "outputs": [
    {
     "data": {
      "text/plain": [
       "0.9326967163487464"
      ]
     },
     "execution_count": 171,
     "metadata": {},
     "output_type": "execute_result"
    }
   ],
   "source": [
    "sum(scores) / len(scores)"
   ]
  }
 ],
 "metadata": {
  "colab": {
   "collapsed_sections": [],
   "name": "kazan_exp.ipynb",
   "provenance": [],
   "toc_visible": true
  },
  "kernelspec": {
   "display_name": "Python 3 (ipykernel)",
   "language": "python",
   "name": "python3"
  },
  "language_info": {
   "codemirror_mode": {
    "name": "ipython",
    "version": 3
   },
   "file_extension": ".py",
   "mimetype": "text/x-python",
   "name": "python",
   "nbconvert_exporter": "python",
   "pygments_lexer": "ipython3",
   "version": "3.8.8"
  }
 },
 "nbformat": 4,
 "nbformat_minor": 1
}
